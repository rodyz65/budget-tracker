{
 "cells": [
  {
   "cell_type": "code",
   "execution_count": 46,
   "id": "ebd39d58",
   "metadata": {},
   "outputs": [],
   "source": [
    "import tkinter as tk\n",
    "import json\n",
    "import os\n",
    "TRANSACTION_FILE = \"transactions_gui.json\""
   ]
  },
  {
   "cell_type": "code",
   "execution_count": 42,
   "id": "55ee6392",
   "metadata": {},
   "outputs": [],
   "source": [
    "transactions = []\n",
    "def save_transactions():\n",
    "        with open(TRANSACTION_FILE, 'w') as file:\n",
    "            json.dump(transactions, file, indent=4)\n",
    "def load_transactions():\n",
    "      if os.path.exists(TRANSACTION_FILE):\n",
    "          with open(TRANSACTION_FILE, 'r') as file:\n",
    "              return json.load(file)\n",
    "      else:\n",
    "              return []"
   ]
  },
  {
   "cell_type": "code",
   "execution_count": 43,
   "id": "0e3565c0",
   "metadata": {},
   "outputs": [],
   "source": [
    "def refresh_view():\n",
    "    global total_amount\n",
    "    total_amount = 0\n",
    "    transaction_list.delete(0, tk.END)\n",
    "    for transaction in transactions:\n",
    "        transaction_list.insert(tk.END, f\"{transaction['Description']}: ${transaction['Amount']:.2f}\")\n",
    "        total_amount += transaction['Amount']\n",
    "    balance_label.config(text=f\"Total Balance: ${total_amount:.2f}\")\n"
   ]
  },
  {
   "cell_type": "code",
   "execution_count": 44,
   "id": "ac777ca8",
   "metadata": {},
   "outputs": [],
   "source": [
    "def delete_transaction():\n",
    "    selected_indices = transaction_list.curselection()\n",
    "    if selected_indices:\n",
    "        for index in reversed(selected_indices):\n",
    "            deleted = transactions.pop(index)\n",
    "            print(f\"Deleted transaction: {deleted}\")\n",
    "        save_transactions()\n",
    "        refresh_view()\n",
    "    else:\n",
    "        print(\"No transaction selected for deletion.\")\n"
   ]
  },
  {
   "cell_type": "code",
   "execution_count": 45,
   "id": "dc3361dd",
   "metadata": {},
   "outputs": [
    {
     "name": "stdout",
     "output_type": "stream",
     "text": [
      "Deleted transaction: {'Description': 'o dividend', 'Amount': 8.0}\n"
     ]
    }
   ],
   "source": [
    "total_amount = 0.0\n",
    "transactions = load_transactions()\n",
    "def add_transaction():\n",
    "    global total_amount\n",
    "    desc = desc_entry.get()\n",
    "    amt = amt_entry.get()\n",
    "    total_amount += float(amt)\n",
    "    transactions.append({\"Description\": desc, \"Amount\": float(amt)})\n",
    "    transaction_list.insert(tk.END, f\"{desc}: ${amt}\")\n",
    "    balance_label.config(text=f\"Balance: ${total_amount:.2f}\")\n",
    "    desc_entry.delete(0, tk.END)\n",
    "    amt_entry.delete(0, tk.END)\n",
    "    save_transactions()\n",
    "root = tk.Tk()\n",
    "root.title(\"Transaction List\")\n",
    "#Labels and text entry boxes\n",
    "desc_label = tk.Label(root,text=\"Description:\")\n",
    "desc_label.pack()\n",
    "desc_entry = tk.Entry(root)\n",
    "desc_entry.pack()\n",
    "amt_label = tk.Label(root,text=\"Amount:\")\n",
    "amt_label.pack()\n",
    "amt_entry = tk.Entry(root)\n",
    "amt_entry.pack()\n",
    "balance_label = tk.Label(root, text='Balance: $0.00')\n",
    "balance_label.pack()\n",
    "delete_label = tk.Label(root, text=\"Select a transaction to delete:\")\n",
    "delete_label.pack()\n",
    "delete_button = tk.Button(root, text=\"Delete Transaction\", command=delete_transaction)\n",
    "delete_button.pack()\n",
    "\n",
    "submit_button = tk.Button(root,text=\"Submit\",command=add_transaction)\n",
    "submit_button.pack()\n",
    "transaction_list = tk.Listbox(root, width=40, selectmode=\"extended\")\n",
    "transaction_list.pack()\n",
    "refresh_view()\n",
    "\n",
    "root.mainloop()"
   ]
  }
 ],
 "metadata": {
  "kernelspec": {
   "display_name": "base",
   "language": "python",
   "name": "python3"
  },
  "language_info": {
   "codemirror_mode": {
    "name": "ipython",
    "version": 3
   },
   "file_extension": ".py",
   "mimetype": "text/x-python",
   "name": "python",
   "nbconvert_exporter": "python",
   "pygments_lexer": "ipython3",
   "version": "3.9.12"
  }
 },
 "nbformat": 4,
 "nbformat_minor": 5
}
